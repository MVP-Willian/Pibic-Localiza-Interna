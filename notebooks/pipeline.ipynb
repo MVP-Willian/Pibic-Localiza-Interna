{
 "cells": [
  {
   "cell_type": "markdown",
   "id": "5ed146d6",
   "metadata": {},
   "source": [
    "# Análise do Dataset"
   ]
  },
  {
   "cell_type": "code",
   "execution_count": 2,
   "id": "f39a4b64",
   "metadata": {},
   "outputs": [
    {
     "data": {
      "text/plain": [
       "(2090, 20)"
      ]
     },
     "execution_count": 2,
     "metadata": {},
     "output_type": "execute_result"
    }
   ],
   "source": [
    "import pandas as pd\n",
    "\n",
    "df = pd.read_csv(\"../datasets/dataframe_yuri_xiaomi_x5.csv\")\n",
    "df.shape"
   ]
  }
 ],
 "metadata": {
  "kernelspec": {
   "display_name": "AMBIENTE_ML",
   "language": "python",
   "name": "python3"
  },
  "language_info": {
   "codemirror_mode": {
    "name": "ipython",
    "version": 3
   },
   "file_extension": ".py",
   "mimetype": "text/x-python",
   "name": "python",
   "nbconvert_exporter": "python",
   "pygments_lexer": "ipython3",
   "version": "3.9.6"
  }
 },
 "nbformat": 4,
 "nbformat_minor": 5
}
