{
 "cells": [
  {
   "cell_type": "markdown",
   "id": "5ed146d6",
   "metadata": {},
   "source": [
    "# Análise do Dataset"
   ]
  },
  {
   "cell_type": "code",
   "execution_count": 17,
   "id": "f39a4b64",
   "metadata": {},
   "outputs": [
    {
     "data": {
      "text/plain": [
       "(521, 10)"
      ]
     },
     "execution_count": 17,
     "metadata": {},
     "output_type": "execute_result"
    }
   ],
   "source": [
    "import pandas as pd\n",
    "\n",
    "df = pd.read_csv(\"../datasets/dataframe_filtrado.csv\")\n",
    "df.shape"
   ]
  },
  {
   "cell_type": "code",
   "execution_count": 18,
   "id": "fa2f3494",
   "metadata": {},
   "outputs": [
    {
     "name": "stdout",
     "output_type": "stream",
     "text": [
      "-------------------- Quantidade de dados faltantes por coluna --------------------\n",
      "B1    0\n",
      "B2    0\n",
      "B3    0\n",
      "B4    0\n",
      "B5    0\n",
      "B6    0\n",
      "B7    0\n",
      "B8    0\n",
      "B9    0\n",
      "RP    0\n",
      "dtype: int64\n",
      "\n",
      "-------------------- Informações do DataFrame --------------------\n",
      "\n",
      "<class 'pandas.core.frame.DataFrame'>\n",
      "RangeIndex: 521 entries, 0 to 520\n",
      "Data columns (total 10 columns):\n",
      " #   Column  Non-Null Count  Dtype \n",
      "---  ------  --------------  ----- \n",
      " 0   B1      521 non-null    int64 \n",
      " 1   B2      521 non-null    int64 \n",
      " 2   B3      521 non-null    int64 \n",
      " 3   B4      521 non-null    int64 \n",
      " 4   B5      521 non-null    int64 \n",
      " 5   B6      521 non-null    int64 \n",
      " 6   B7      521 non-null    int64 \n",
      " 7   B8      521 non-null    int64 \n",
      " 8   B9      521 non-null    int64 \n",
      " 9   RP      521 non-null    object\n",
      "dtypes: int64(9), object(1)\n",
      "memory usage: 40.8+ KB\n"
     ]
    }
   ],
   "source": [
    "#analise de dados faltantes\n",
    "qtd_nulls = df.isnull().sum()\n",
    "\n",
    "print(f\"-------------------- Quantidade de dados faltantes por coluna --------------------\\n{qtd_nulls}\")\n",
    "\n",
    "print(\"\\n-------------------- Informações do DataFrame --------------------\\n\")\n",
    "df.info()"
   ]
  },
  {
   "cell_type": "markdown",
   "id": "3f75d103",
   "metadata": {},
   "source": [
    "Remoção de colunas que não irão fazer parte da classificação dos modelos"
   ]
  },
  {
   "cell_type": "code",
   "execution_count": 19,
   "id": "42db8654",
   "metadata": {},
   "outputs": [
    {
     "ename": "KeyError",
     "evalue": "\"['Direction', 'Alpha', 'Beta', 'Gama', 'Device', 'Brand', 'Model', 'Created'] not found in axis\"",
     "output_type": "error",
     "traceback": [
      "\u001b[0;31m---------------------------------------------------------------------------\u001b[0m",
      "\u001b[0;31mKeyError\u001b[0m                                  Traceback (most recent call last)",
      "Cell \u001b[0;32mIn[19], line 1\u001b[0m\n\u001b[0;32m----> 1\u001b[0m df_filtrado \u001b[38;5;241m=\u001b[39m \u001b[43mdf\u001b[49m\u001b[38;5;241;43m.\u001b[39;49m\u001b[43mdrop\u001b[49m\u001b[43m(\u001b[49m\u001b[43mcolumns\u001b[49m\u001b[38;5;241;43m=\u001b[39;49m\u001b[43m[\u001b[49m\u001b[38;5;124;43m'\u001b[39;49m\u001b[38;5;124;43mDirection\u001b[39;49m\u001b[38;5;124;43m'\u001b[39;49m\u001b[43m,\u001b[49m\u001b[43m \u001b[49m\u001b[38;5;124;43m'\u001b[39;49m\u001b[38;5;124;43mAlpha\u001b[39;49m\u001b[38;5;124;43m'\u001b[39;49m\u001b[43m,\u001b[49m\u001b[43m \u001b[49m\u001b[38;5;124;43m'\u001b[39;49m\u001b[38;5;124;43mBeta\u001b[39;49m\u001b[38;5;124;43m'\u001b[39;49m\u001b[43m,\u001b[49m\u001b[43m \u001b[49m\u001b[38;5;124;43m'\u001b[39;49m\u001b[38;5;124;43mGama\u001b[39;49m\u001b[38;5;124;43m'\u001b[39;49m\u001b[43m,\u001b[49m\u001b[43m \u001b[49m\u001b[38;5;124;43m'\u001b[39;49m\u001b[38;5;124;43mDevice\u001b[39;49m\u001b[38;5;124;43m'\u001b[39;49m\u001b[43m,\u001b[49m\u001b[43m \u001b[49m\u001b[38;5;124;43m'\u001b[39;49m\u001b[38;5;124;43mBrand\u001b[39;49m\u001b[38;5;124;43m'\u001b[39;49m\u001b[43m,\u001b[49m\u001b[43m \u001b[49m\u001b[38;5;124;43m'\u001b[39;49m\u001b[38;5;124;43mModel\u001b[39;49m\u001b[38;5;124;43m'\u001b[39;49m\u001b[43m,\u001b[49m\u001b[43m \u001b[49m\u001b[38;5;124;43m'\u001b[39;49m\u001b[38;5;124;43mCreated\u001b[39;49m\u001b[38;5;124;43m'\u001b[39;49m\u001b[43m]\u001b[49m\u001b[43m)\u001b[49m\n\u001b[1;32m      2\u001b[0m \u001b[38;5;28mprint\u001b[39m(\u001b[38;5;124mf\u001b[39m\u001b[38;5;124m\"\u001b[39m\u001b[38;5;124mNova dimensão dos dados: \u001b[39m\u001b[38;5;132;01m{\u001b[39;00mdf_filtrado\u001b[38;5;241m.\u001b[39mshape\u001b[38;5;132;01m}\u001b[39;00m\u001b[38;5;124m\"\u001b[39m)\n\u001b[1;32m      4\u001b[0m \u001b[38;5;28mprint\u001b[39m(\u001b[38;5;124m\"\u001b[39m\u001b[38;5;130;01m\\n\u001b[39;00m\u001b[38;5;124m-------------------- Head DataFrame Filtrado --------------------\u001b[39m\u001b[38;5;130;01m\\n\u001b[39;00m\u001b[38;5;124m\"\u001b[39m)\n",
      "File \u001b[0;32m~/Documents/Repositórios/AMBIENTE_ML/lib/python3.9/site-packages/pandas/core/frame.py:5603\u001b[0m, in \u001b[0;36mDataFrame.drop\u001b[0;34m(self, labels, axis, index, columns, level, inplace, errors)\u001b[0m\n\u001b[1;32m   5455\u001b[0m \u001b[38;5;28;01mdef\u001b[39;00m\u001b[38;5;250m \u001b[39m\u001b[38;5;21mdrop\u001b[39m(\n\u001b[1;32m   5456\u001b[0m     \u001b[38;5;28mself\u001b[39m,\n\u001b[1;32m   5457\u001b[0m     labels: IndexLabel \u001b[38;5;241m|\u001b[39m \u001b[38;5;28;01mNone\u001b[39;00m \u001b[38;5;241m=\u001b[39m \u001b[38;5;28;01mNone\u001b[39;00m,\n\u001b[0;32m   (...)\u001b[0m\n\u001b[1;32m   5464\u001b[0m     errors: IgnoreRaise \u001b[38;5;241m=\u001b[39m \u001b[38;5;124m\"\u001b[39m\u001b[38;5;124mraise\u001b[39m\u001b[38;5;124m\"\u001b[39m,\n\u001b[1;32m   5465\u001b[0m ) \u001b[38;5;241m-\u001b[39m\u001b[38;5;241m>\u001b[39m DataFrame \u001b[38;5;241m|\u001b[39m \u001b[38;5;28;01mNone\u001b[39;00m:\n\u001b[1;32m   5466\u001b[0m \u001b[38;5;250m    \u001b[39m\u001b[38;5;124;03m\"\"\"\u001b[39;00m\n\u001b[1;32m   5467\u001b[0m \u001b[38;5;124;03m    Drop specified labels from rows or columns.\u001b[39;00m\n\u001b[1;32m   5468\u001b[0m \n\u001b[0;32m   (...)\u001b[0m\n\u001b[1;32m   5601\u001b[0m \u001b[38;5;124;03m            weight  1.0     0.8\u001b[39;00m\n\u001b[1;32m   5602\u001b[0m \u001b[38;5;124;03m    \"\"\"\u001b[39;00m\n\u001b[0;32m-> 5603\u001b[0m     \u001b[38;5;28;01mreturn\u001b[39;00m \u001b[38;5;28;43msuper\u001b[39;49m\u001b[43m(\u001b[49m\u001b[43m)\u001b[49m\u001b[38;5;241;43m.\u001b[39;49m\u001b[43mdrop\u001b[49m\u001b[43m(\u001b[49m\n\u001b[1;32m   5604\u001b[0m \u001b[43m        \u001b[49m\u001b[43mlabels\u001b[49m\u001b[38;5;241;43m=\u001b[39;49m\u001b[43mlabels\u001b[49m\u001b[43m,\u001b[49m\n\u001b[1;32m   5605\u001b[0m \u001b[43m        \u001b[49m\u001b[43maxis\u001b[49m\u001b[38;5;241;43m=\u001b[39;49m\u001b[43maxis\u001b[49m\u001b[43m,\u001b[49m\n\u001b[1;32m   5606\u001b[0m \u001b[43m        \u001b[49m\u001b[43mindex\u001b[49m\u001b[38;5;241;43m=\u001b[39;49m\u001b[43mindex\u001b[49m\u001b[43m,\u001b[49m\n\u001b[1;32m   5607\u001b[0m \u001b[43m        \u001b[49m\u001b[43mcolumns\u001b[49m\u001b[38;5;241;43m=\u001b[39;49m\u001b[43mcolumns\u001b[49m\u001b[43m,\u001b[49m\n\u001b[1;32m   5608\u001b[0m \u001b[43m        \u001b[49m\u001b[43mlevel\u001b[49m\u001b[38;5;241;43m=\u001b[39;49m\u001b[43mlevel\u001b[49m\u001b[43m,\u001b[49m\n\u001b[1;32m   5609\u001b[0m \u001b[43m        \u001b[49m\u001b[43minplace\u001b[49m\u001b[38;5;241;43m=\u001b[39;49m\u001b[43minplace\u001b[49m\u001b[43m,\u001b[49m\n\u001b[1;32m   5610\u001b[0m \u001b[43m        \u001b[49m\u001b[43merrors\u001b[49m\u001b[38;5;241;43m=\u001b[39;49m\u001b[43merrors\u001b[49m\u001b[43m,\u001b[49m\n\u001b[1;32m   5611\u001b[0m \u001b[43m    \u001b[49m\u001b[43m)\u001b[49m\n",
      "File \u001b[0;32m~/Documents/Repositórios/AMBIENTE_ML/lib/python3.9/site-packages/pandas/core/generic.py:4810\u001b[0m, in \u001b[0;36mNDFrame.drop\u001b[0;34m(self, labels, axis, index, columns, level, inplace, errors)\u001b[0m\n\u001b[1;32m   4808\u001b[0m \u001b[38;5;28;01mfor\u001b[39;00m axis, labels \u001b[38;5;129;01min\u001b[39;00m axes\u001b[38;5;241m.\u001b[39mitems():\n\u001b[1;32m   4809\u001b[0m     \u001b[38;5;28;01mif\u001b[39;00m labels \u001b[38;5;129;01mis\u001b[39;00m \u001b[38;5;129;01mnot\u001b[39;00m \u001b[38;5;28;01mNone\u001b[39;00m:\n\u001b[0;32m-> 4810\u001b[0m         obj \u001b[38;5;241m=\u001b[39m \u001b[43mobj\u001b[49m\u001b[38;5;241;43m.\u001b[39;49m\u001b[43m_drop_axis\u001b[49m\u001b[43m(\u001b[49m\u001b[43mlabels\u001b[49m\u001b[43m,\u001b[49m\u001b[43m \u001b[49m\u001b[43maxis\u001b[49m\u001b[43m,\u001b[49m\u001b[43m \u001b[49m\u001b[43mlevel\u001b[49m\u001b[38;5;241;43m=\u001b[39;49m\u001b[43mlevel\u001b[49m\u001b[43m,\u001b[49m\u001b[43m \u001b[49m\u001b[43merrors\u001b[49m\u001b[38;5;241;43m=\u001b[39;49m\u001b[43merrors\u001b[49m\u001b[43m)\u001b[49m\n\u001b[1;32m   4812\u001b[0m \u001b[38;5;28;01mif\u001b[39;00m inplace:\n\u001b[1;32m   4813\u001b[0m     \u001b[38;5;28mself\u001b[39m\u001b[38;5;241m.\u001b[39m_update_inplace(obj)\n",
      "File \u001b[0;32m~/Documents/Repositórios/AMBIENTE_ML/lib/python3.9/site-packages/pandas/core/generic.py:4852\u001b[0m, in \u001b[0;36mNDFrame._drop_axis\u001b[0;34m(self, labels, axis, level, errors, only_slice)\u001b[0m\n\u001b[1;32m   4850\u001b[0m         new_axis \u001b[38;5;241m=\u001b[39m axis\u001b[38;5;241m.\u001b[39mdrop(labels, level\u001b[38;5;241m=\u001b[39mlevel, errors\u001b[38;5;241m=\u001b[39merrors)\n\u001b[1;32m   4851\u001b[0m     \u001b[38;5;28;01melse\u001b[39;00m:\n\u001b[0;32m-> 4852\u001b[0m         new_axis \u001b[38;5;241m=\u001b[39m \u001b[43maxis\u001b[49m\u001b[38;5;241;43m.\u001b[39;49m\u001b[43mdrop\u001b[49m\u001b[43m(\u001b[49m\u001b[43mlabels\u001b[49m\u001b[43m,\u001b[49m\u001b[43m \u001b[49m\u001b[43merrors\u001b[49m\u001b[38;5;241;43m=\u001b[39;49m\u001b[43merrors\u001b[49m\u001b[43m)\u001b[49m\n\u001b[1;32m   4853\u001b[0m     indexer \u001b[38;5;241m=\u001b[39m axis\u001b[38;5;241m.\u001b[39mget_indexer(new_axis)\n\u001b[1;32m   4855\u001b[0m \u001b[38;5;66;03m# Case for non-unique axis\u001b[39;00m\n\u001b[1;32m   4856\u001b[0m \u001b[38;5;28;01melse\u001b[39;00m:\n",
      "File \u001b[0;32m~/Documents/Repositórios/AMBIENTE_ML/lib/python3.9/site-packages/pandas/core/indexes/base.py:7136\u001b[0m, in \u001b[0;36mIndex.drop\u001b[0;34m(self, labels, errors)\u001b[0m\n\u001b[1;32m   7134\u001b[0m \u001b[38;5;28;01mif\u001b[39;00m mask\u001b[38;5;241m.\u001b[39many():\n\u001b[1;32m   7135\u001b[0m     \u001b[38;5;28;01mif\u001b[39;00m errors \u001b[38;5;241m!=\u001b[39m \u001b[38;5;124m\"\u001b[39m\u001b[38;5;124mignore\u001b[39m\u001b[38;5;124m\"\u001b[39m:\n\u001b[0;32m-> 7136\u001b[0m         \u001b[38;5;28;01mraise\u001b[39;00m \u001b[38;5;167;01mKeyError\u001b[39;00m(\u001b[38;5;124mf\u001b[39m\u001b[38;5;124m\"\u001b[39m\u001b[38;5;132;01m{\u001b[39;00mlabels[mask]\u001b[38;5;241m.\u001b[39mtolist()\u001b[38;5;132;01m}\u001b[39;00m\u001b[38;5;124m not found in axis\u001b[39m\u001b[38;5;124m\"\u001b[39m)\n\u001b[1;32m   7137\u001b[0m     indexer \u001b[38;5;241m=\u001b[39m indexer[\u001b[38;5;241m~\u001b[39mmask]\n\u001b[1;32m   7138\u001b[0m \u001b[38;5;28;01mreturn\u001b[39;00m \u001b[38;5;28mself\u001b[39m\u001b[38;5;241m.\u001b[39mdelete(indexer)\n",
      "\u001b[0;31mKeyError\u001b[0m: \"['Direction', 'Alpha', 'Beta', 'Gama', 'Device', 'Brand', 'Model', 'Created'] not found in axis\""
     ]
    }
   ],
   "source": [
    "df_filtrado = df.drop(columns=['Direction', 'Alpha', 'Beta', 'Gama', 'Device', 'Brand', 'Model', 'Created'])\n",
    "print(f\"Nova dimensão dos dados: {df_filtrado.shape}\")\n",
    "\n",
    "print(\"\\n-------------------- Head DataFrame Filtrado --------------------\\n\")\n",
    "df_filtrado.head()"
   ]
  },
  {
   "cell_type": "markdown",
   "id": "4f470707",
   "metadata": {},
   "source": [
    "Conversao do formato da tabela de categorias de str para int"
   ]
  },
  {
   "cell_type": "code",
   "execution_count": 20,
   "id": "6030aa74",
   "metadata": {},
   "outputs": [
    {
     "name": "stdout",
     "output_type": "stream",
     "text": [
      "------------ Analise das categorias --------------\n",
      "Nova categoria encontrada: 1\n",
      "Nova categoria encontrada: 2\n",
      "Nova categoria encontrada: 3\n",
      "Nova categoria encontrada: 4\n",
      "Nova categoria encontrada: 5\n",
      "Nova categoria encontrada: 6\n",
      "Nova categoria encontrada: 7\n",
      "Nova categoria encontrada: 8\n",
      "Nova categoria encontrada: 9\n",
      "Nova categoria encontrada: 10\n",
      "Nova categoria encontrada: 11\n",
      "Nova categoria encontrada: 12\n",
      "Nova categoria encontrada: 13\n",
      "Nova categoria encontrada: 14\n",
      "Nova categoria encontrada: 15\n",
      "Nova categoria encontrada: 16\n",
      "Nova categoria encontrada: 17\n",
      "Nova categoria encontrada: 18\n",
      "Nova categoria encontrada: 19\n",
      "Nova categoria encontrada: 20\n",
      "Nova categoria encontrada: 21\n",
      "Nova categoria encontrada: 22\n",
      "Nova categoria encontrada: 23\n",
      "Nova categoria encontrada: 24\n",
      "Nova categoria encontrada: 25\n",
      "Nova categoria encontrada: 26\n",
      "Nova categoria encontrada: 27\n"
     ]
    },
    {
     "data": {
      "text/html": [
       "<div>\n",
       "<style scoped>\n",
       "    .dataframe tbody tr th:only-of-type {\n",
       "        vertical-align: middle;\n",
       "    }\n",
       "\n",
       "    .dataframe tbody tr th {\n",
       "        vertical-align: top;\n",
       "    }\n",
       "\n",
       "    .dataframe thead th {\n",
       "        text-align: right;\n",
       "    }\n",
       "</style>\n",
       "<table border=\"1\" class=\"dataframe\">\n",
       "  <thead>\n",
       "    <tr style=\"text-align: right;\">\n",
       "      <th></th>\n",
       "      <th>B1</th>\n",
       "      <th>B2</th>\n",
       "      <th>B3</th>\n",
       "      <th>B4</th>\n",
       "      <th>B5</th>\n",
       "      <th>B6</th>\n",
       "      <th>B7</th>\n",
       "      <th>B8</th>\n",
       "      <th>B9</th>\n",
       "      <th>RP</th>\n",
       "      <th>X</th>\n",
       "      <th>Y</th>\n",
       "    </tr>\n",
       "  </thead>\n",
       "  <tbody>\n",
       "    <tr>\n",
       "      <th>0</th>\n",
       "      <td>-80</td>\n",
       "      <td>-78</td>\n",
       "      <td>-53</td>\n",
       "      <td>-76</td>\n",
       "      <td>-78</td>\n",
       "      <td>-77</td>\n",
       "      <td>-83</td>\n",
       "      <td>-78</td>\n",
       "      <td>-80</td>\n",
       "      <td>1</td>\n",
       "      <td>6.27</td>\n",
       "      <td>3.76</td>\n",
       "    </tr>\n",
       "    <tr>\n",
       "      <th>1</th>\n",
       "      <td>-64</td>\n",
       "      <td>-73</td>\n",
       "      <td>-55</td>\n",
       "      <td>-72</td>\n",
       "      <td>-78</td>\n",
       "      <td>-76</td>\n",
       "      <td>-79</td>\n",
       "      <td>-78</td>\n",
       "      <td>-105</td>\n",
       "      <td>1</td>\n",
       "      <td>6.27</td>\n",
       "      <td>3.76</td>\n",
       "    </tr>\n",
       "    <tr>\n",
       "      <th>2</th>\n",
       "      <td>-69</td>\n",
       "      <td>-68</td>\n",
       "      <td>-58</td>\n",
       "      <td>-70</td>\n",
       "      <td>-80</td>\n",
       "      <td>-80</td>\n",
       "      <td>-82</td>\n",
       "      <td>-71</td>\n",
       "      <td>-82</td>\n",
       "      <td>1</td>\n",
       "      <td>6.27</td>\n",
       "      <td>3.76</td>\n",
       "    </tr>\n",
       "    <tr>\n",
       "      <th>3</th>\n",
       "      <td>-69</td>\n",
       "      <td>-65</td>\n",
       "      <td>-58</td>\n",
       "      <td>-70</td>\n",
       "      <td>-80</td>\n",
       "      <td>-77</td>\n",
       "      <td>-85</td>\n",
       "      <td>-72</td>\n",
       "      <td>-92</td>\n",
       "      <td>1</td>\n",
       "      <td>6.27</td>\n",
       "      <td>3.76</td>\n",
       "    </tr>\n",
       "    <tr>\n",
       "      <th>4</th>\n",
       "      <td>-65</td>\n",
       "      <td>-67</td>\n",
       "      <td>-56</td>\n",
       "      <td>-69</td>\n",
       "      <td>-80</td>\n",
       "      <td>-77</td>\n",
       "      <td>-76</td>\n",
       "      <td>-71</td>\n",
       "      <td>-79</td>\n",
       "      <td>1</td>\n",
       "      <td>6.27</td>\n",
       "      <td>3.76</td>\n",
       "    </tr>\n",
       "    <tr>\n",
       "      <th>...</th>\n",
       "      <td>...</td>\n",
       "      <td>...</td>\n",
       "      <td>...</td>\n",
       "      <td>...</td>\n",
       "      <td>...</td>\n",
       "      <td>...</td>\n",
       "      <td>...</td>\n",
       "      <td>...</td>\n",
       "      <td>...</td>\n",
       "      <td>...</td>\n",
       "      <td>...</td>\n",
       "      <td>...</td>\n",
       "    </tr>\n",
       "    <tr>\n",
       "      <th>2085</th>\n",
       "      <td>-70</td>\n",
       "      <td>-71</td>\n",
       "      <td>-70</td>\n",
       "      <td>-74</td>\n",
       "      <td>-80</td>\n",
       "      <td>-76</td>\n",
       "      <td>-88</td>\n",
       "      <td>-77</td>\n",
       "      <td>-78</td>\n",
       "      <td>27</td>\n",
       "      <td>6.27</td>\n",
       "      <td>0.77</td>\n",
       "    </tr>\n",
       "    <tr>\n",
       "      <th>2086</th>\n",
       "      <td>-69</td>\n",
       "      <td>-72</td>\n",
       "      <td>-70</td>\n",
       "      <td>-74</td>\n",
       "      <td>-80</td>\n",
       "      <td>-78</td>\n",
       "      <td>-89</td>\n",
       "      <td>-78</td>\n",
       "      <td>-77</td>\n",
       "      <td>27</td>\n",
       "      <td>6.27</td>\n",
       "      <td>0.77</td>\n",
       "    </tr>\n",
       "    <tr>\n",
       "      <th>2087</th>\n",
       "      <td>-69</td>\n",
       "      <td>-71</td>\n",
       "      <td>-69</td>\n",
       "      <td>-74</td>\n",
       "      <td>-81</td>\n",
       "      <td>-77</td>\n",
       "      <td>-83</td>\n",
       "      <td>-72</td>\n",
       "      <td>-77</td>\n",
       "      <td>27</td>\n",
       "      <td>6.27</td>\n",
       "      <td>0.77</td>\n",
       "    </tr>\n",
       "    <tr>\n",
       "      <th>2088</th>\n",
       "      <td>-72</td>\n",
       "      <td>-80</td>\n",
       "      <td>-66</td>\n",
       "      <td>-74</td>\n",
       "      <td>-81</td>\n",
       "      <td>-74</td>\n",
       "      <td>-75</td>\n",
       "      <td>-71</td>\n",
       "      <td>-77</td>\n",
       "      <td>27</td>\n",
       "      <td>6.27</td>\n",
       "      <td>0.77</td>\n",
       "    </tr>\n",
       "    <tr>\n",
       "      <th>2089</th>\n",
       "      <td>-72</td>\n",
       "      <td>-79</td>\n",
       "      <td>-67</td>\n",
       "      <td>-76</td>\n",
       "      <td>-85</td>\n",
       "      <td>-77</td>\n",
       "      <td>-76</td>\n",
       "      <td>-72</td>\n",
       "      <td>-79</td>\n",
       "      <td>27</td>\n",
       "      <td>6.27</td>\n",
       "      <td>0.77</td>\n",
       "    </tr>\n",
       "  </tbody>\n",
       "</table>\n",
       "<p>2090 rows × 12 columns</p>\n",
       "</div>"
      ],
      "text/plain": [
       "      B1  B2  B3  B4  B5  B6  B7  B8   B9  RP     X     Y\n",
       "0    -80 -78 -53 -76 -78 -77 -83 -78  -80   1  6.27  3.76\n",
       "1    -64 -73 -55 -72 -78 -76 -79 -78 -105   1  6.27  3.76\n",
       "2    -69 -68 -58 -70 -80 -80 -82 -71  -82   1  6.27  3.76\n",
       "3    -69 -65 -58 -70 -80 -77 -85 -72  -92   1  6.27  3.76\n",
       "4    -65 -67 -56 -69 -80 -77 -76 -71  -79   1  6.27  3.76\n",
       "...   ..  ..  ..  ..  ..  ..  ..  ..  ...  ..   ...   ...\n",
       "2085 -70 -71 -70 -74 -80 -76 -88 -77  -78  27  6.27  0.77\n",
       "2086 -69 -72 -70 -74 -80 -78 -89 -78  -77  27  6.27  0.77\n",
       "2087 -69 -71 -69 -74 -81 -77 -83 -72  -77  27  6.27  0.77\n",
       "2088 -72 -80 -66 -74 -81 -74 -75 -71  -77  27  6.27  0.77\n",
       "2089 -72 -79 -67 -76 -85 -77 -76 -72  -79  27  6.27  0.77\n",
       "\n",
       "[2090 rows x 12 columns]"
      ]
     },
     "execution_count": 20,
     "metadata": {},
     "output_type": "execute_result"
    }
   ],
   "source": [
    "categorias_serie = df_filtrado['RP']\n",
    "categorias_numeradas= {}\n",
    "contador = 1\n",
    "\n",
    "#analise das categorias:\n",
    "print(\"------------ Analise das categorias --------------\")\n",
    "for categoria in categorias_serie.unique():\n",
    "    if(categoria not in categorias_numeradas):\n",
    "        print(f\"Nova categoria encontrada: {categoria}\")\n",
    "        categorias_numeradas[categoria] = contador\n",
    "        contador += 1\n",
    "\n",
    "\n",
    "#conversão das categorias de str para int\n",
    "categorias_serie = categorias_serie.map(categorias_numeradas)\n",
    "df_filtrado['RP'] = categorias_serie\n",
    "\n",
    "df_filtrado"
   ]
  },
  {
   "cell_type": "markdown",
   "id": "0a3e3ea9",
   "metadata": {},
   "source": [
    "# Treinamento dos modelos"
   ]
  },
  {
   "cell_type": "code",
   "execution_count": 7,
   "id": "03df4bae",
   "metadata": {},
   "outputs": [],
   "source": [
    "import numpy as np\n",
    "from sklearn.model_selection import StratifiedKFold, GridSearchCV, train_test_split\n",
    "from sklearn.neighbors import KNeighborsClassifier, KNeighborsRegressor\n",
    "from sklearn.metrics import classification_report, confusion_matrix, ConfusionMatrixDisplay\n",
    "import seaborn as sns\n",
    "import matplotlib.pyplot as plt"
   ]
  },
  {
   "cell_type": "markdown",
   "id": "2bae059a",
   "metadata": {},
   "source": [
    "# Treinamento/Validação com base em RP"
   ]
  },
  {
   "cell_type": "markdown",
   "id": "4982ce6e",
   "metadata": {},
   "source": [
    "Divisão dos dados em Treino e Teste"
   ]
  },
  {
   "cell_type": "code",
   "execution_count": 8,
   "id": "e8d0a210",
   "metadata": {
    "vscode": {
     "languageId": "ruby"
    }
   },
   "outputs": [
    {
     "name": "stdout",
     "output_type": "stream",
     "text": [
      "['P_1_1' 'P_1_2' 'P_1_3' 'P_2_1' 'P_2_2' 'P_2_3' 'P_3_1' 'P_3_2' 'P_3_3'\n",
      " 'P_4_1' 'P_4_2' 'P_4_3' 'P_5_1' 'P_5_2' 'P_5_3' 'P_6_1' 'P_6_2' 'P_6_3'\n",
      " 'P_7_1' 'P_7_2' 'P_7_3' 'P_8_1' 'P_8_2' 'P_8_3' 'P_9_1' 'P_9_2' 'P_9_3']\n"
     ]
    }
   ],
   "source": [
    "rssi_colunas = ['B1','B2','B3','B4','B5','B6','B7','B8','B9',]\n",
    "X_class = df[rssi_colunas].values\n",
    "Y_class = df['RP'].values\n",
    "\n",
    "\n",
    "#Mudar o test_size para analisar o resultados\n",
    "X_train_class, X_test_class, Y_train_class, Y_test_class = train_test_split(X_class, Y_class, test_size=0.3, random_state=42, stratify=Y_class)\n",
    "\n",
    "#conferir se todas as categorias possíveis estao no conjunto de teste\n",
    "print(np.unique(Y_test_class))"
   ]
  },
  {
   "cell_type": "markdown",
   "id": "8882f147",
   "metadata": {},
   "source": [
    "Instanciando os objetos necessários para o treinamento"
   ]
  },
  {
   "cell_type": "code",
   "execution_count": 10,
   "id": "9ecb5769",
   "metadata": {
    "vscode": {
     "languageId": "ruby"
    }
   },
   "outputs": [],
   "source": [
    "cv = StratifiedKFold(n_splits = 5, shuffle = True, random_state=42)\n",
    "param_grid = {'n_neighbors':[1,3,5,7,9,11]}\n",
    "knn_clf = KNeighborsClassifier()"
   ]
  },
  {
   "cell_type": "markdown",
   "id": "38a7938f",
   "metadata": {},
   "source": [
    "Treinamento e validação"
   ]
  },
  {
   "cell_type": "code",
   "execution_count": null,
   "id": "a8678cc2",
   "metadata": {},
   "outputs": [
    {
     "name": "stdout",
     "output_type": "stream",
     "text": [
      "============================================================\n",
      "RESULTADOS DA CLASSIFICAÇÃO (PR) - Melhor K: 1\n",
      "============================================================\n",
      "              precision    recall  f1-score   support\n",
      "\n",
      "       P_1_1       0.79      0.97      0.87        35\n",
      "       P_1_2       1.00      0.91      0.96        35\n",
      "       P_1_3       0.81      0.83      0.82        35\n",
      "       P_2_1       0.83      0.83      0.83        35\n",
      "       P_2_2       0.83      0.86      0.85        35\n",
      "       P_2_3       0.92      0.94      0.93        35\n",
      "       P_3_1       0.83      0.50      0.62        20\n",
      "       P_3_2       0.64      0.80      0.71        20\n",
      "       P_3_3       0.83      0.75      0.79        20\n",
      "       P_4_1       0.40      0.30      0.34        20\n",
      "       P_4_2       0.53      0.50      0.51        20\n",
      "       P_4_3       0.58      0.55      0.56        20\n",
      "       P_5_1       0.41      0.35      0.38        20\n",
      "       P_5_2       0.39      0.45      0.42        20\n",
      "       P_5_3       0.62      0.79      0.70        19\n",
      "       P_6_1       0.53      0.50      0.51        20\n",
      "       P_6_2       0.42      0.40      0.41        20\n",
      "       P_6_3       0.61      0.55      0.58        20\n",
      "       P_7_1       0.65      0.55      0.59        20\n",
      "       P_7_2       0.58      0.70      0.64        20\n",
      "       P_7_3       0.53      0.42      0.47        19\n",
      "       P_8_1       0.70      0.70      0.70        20\n",
      "       P_8_2       0.52      0.65      0.58        20\n",
      "       P_8_3       0.60      0.45      0.51        20\n",
      "       P_9_1       0.72      0.65      0.68        20\n",
      "       P_9_2       0.89      0.85      0.87        20\n",
      "       P_9_3       0.50      0.74      0.60        19\n",
      "\n",
      "    accuracy                           0.68       627\n",
      "   macro avg       0.65      0.65      0.65       627\n",
      "weighted avg       0.68      0.68      0.68       627\n",
      "\n",
      "['P_2_2' 'P_9_2' 'P_7_2' 'P_2_2' 'P_3_1' 'P_4_3' 'P_3_3' 'P_7_3' 'P_9_1'\n",
      " 'P_7_3']\n",
      "['P_2_2' 'P_9_3' 'P_8_2' 'P_2_2' 'P_3_1' 'P_6_2' 'P_4_2' 'P_6_3' 'P_8_1'\n",
      " 'P_7_3']\n"
     ]
    }
   ],
   "source": [
    "grid_search_class = GridSearchCV(knn_clf, param_grid,cv=cv, scoring='accuracy', n_jobs=1)\n",
    "grid_search_class.fit(X_train_class, Y_train_class)\n",
    "\n",
    "best_k = grid_search_class.best_params_['n_neighbors']\n",
    "\n",
    "best_knn_clf = grid_search_class.best_estimator_\n",
    "Y_pred_class = best_knn_clf.predict(X_test_class)\n",
    "\n",
    "print(\"=\"*60)\n",
    "print(f\"RESULTADOS DA CLASSIFICAÇÃO (PR) - Melhor K: {best_k}\")\n",
    "print(\"=\"*60)\n",
    "\n",
    "print(classification_report(Y_test_class, Y_pred_class))\n",
    "\n",
    "\n",
    "#plots para analisar os resultados das predicoes de classificacao\n",
    "print(Y_test_class[:10])\n",
    "print(Y_pred_class[:10])"
   ]
  },
  {
   "cell_type": "markdown",
   "id": "14f30e5c",
   "metadata": {},
   "source": [
    "# Treinamento com base em (X, Y)"
   ]
  },
  {
   "cell_type": "markdown",
   "id": "918ea37b",
   "metadata": {},
   "source": [
    "Divisao dos dados"
   ]
  },
  {
   "cell_type": "code",
   "execution_count": null,
   "id": "e49ff3a2",
   "metadata": {},
   "outputs": [],
   "source": [
    "# Definir Features (RSSI) e Target (Coordenadas X e Y)\n",
    "X_reg = df[rssi_colunas].values\n",
    "Y_reg = df[['X', 'Y']].values\n",
    "\n",
    "# Split dos dados (70% treino, 30% teste)\n",
    "X_train_reg, X_test_reg, Y_train_reg, Y_test_reg = train_test_split(\n",
    "    X_reg, Y_reg, test_size=0.3, random_state=42\n",
    ")"
   ]
  },
  {
   "cell_type": "markdown",
   "id": "18ad040f",
   "metadata": {},
   "source": [
    "Treinamento e Previsões (Utilizado o mesmo K=5 otimizado na classificação)"
   ]
  },
  {
   "cell_type": "code",
   "execution_count": null,
   "id": "5c9a84b7",
   "metadata": {},
   "outputs": [],
   "source": [
    "knn_regressor = KNeighborsRegressor(n_neighbors=best_k)\n",
    "knn_regressor.fit(X_train_reg, Y_train_reg)\n",
    "Y_pred_reg = knn_regressor.predict(X_test_reg)"
   ]
  },
  {
   "cell_type": "markdown",
   "id": "8d94657c",
   "metadata": {},
   "source": [
    "Métrica Principal: Erro Médio de Distância (MDE) - Cálculo da Distância Euclidiana entre o ponto real e o ponto predito"
   ]
  },
  {
   "cell_type": "code",
   "execution_count": 77,
   "id": "007069d2",
   "metadata": {},
   "outputs": [
    {
     "name": "stdout",
     "output_type": "stream",
     "text": [
      "\n",
      "\n",
      "============================================================\n",
      "RESULTADOS DA REGRESSÃO (Localização X, Y) - K: 5\n",
      "============================================================\n",
      "Erro Médio de Distância (MDE): 1.17 unidades\n",
      "Mediana do Erro de Distância: 0.82 unidades\n"
     ]
    }
   ],
   "source": [
    "squared_error = np.sum(np.square(Y_pred_reg - Y_test_reg), axis=1)\n",
    "distance_errors = np.sqrt(squared_error)\n",
    "\n",
    "mde = np.mean(distance_errors)\n",
    "median_error = np.median(distance_errors)\n",
    "\n",
    "print(\"\\n\\n\"+\"=\"*60)\n",
    "print(f\"RESULTADOS DA REGRESSÃO (Localização X, Y) - K: {best_k}\")\n",
    "print(\"=\"*60)\n",
    "print(f\"Erro Médio de Distância (MDE): {mde:.2f} unidades\")\n",
    "print(f\"Mediana do Erro de Distância: {median_error:.2f} unidades\")"
   ]
  },
  {
   "cell_type": "markdown",
   "id": "9fbeba9a",
   "metadata": {},
   "source": [
    "Gráfico do Histograma dos Erros de Distância"
   ]
  },
  {
   "cell_type": "code",
   "execution_count": 78,
   "id": "c8986284",
   "metadata": {},
   "outputs": [
    {
     "data": {
      "image/png": "[encoded data removed]",
      "text/plain": [
       "<Figure size 1000x600 with 1 Axes>"
      ]
     },
     "metadata": {},
     "output_type": "display_data"
    }
   ],
   "source": [
    "plt.figure(figsize=(10, 6))\n",
    "sns.histplot(distance_errors, bins=20, kde=True, color='purple')\n",
    "plt.title(f'Distribuição dos Erros de Distância (MDE = {mde:.2f})')\n",
    "plt.xlabel('Erro de Distância (Unidades)')\n",
    "plt.ylabel('Frequência')\n",
    "plt.grid(axis='y', alpha=0.7)\n",
    "plt.axvline(mde, color='red', linestyle='dashed', linewidth=2, label=f'MDE ({mde:.2f})')\n",
    "plt.legend()\n",
    "plt.savefig(\"histograma_erros_distancia_final.png\")\n"
   ]
  }
 ],
 "metadata": {
  "kernelspec": {
   "display_name": "AMBIENTE_ML",
   "language": "python",
   "name": "python3"
  },
  "language_info": {
   "codemirror_mode": {
    "name": "ipython",
    "version": 3
   },
   "file_extension": ".py",
   "mimetype": "text/x-python",
   "name": "python",
   "nbconvert_exporter": "python",
   "pygments_lexer": "ipython3",
   "version": "3.9.6"
  }
 },
 "nbformat": 4,
 "nbformat_minor": 5
}
